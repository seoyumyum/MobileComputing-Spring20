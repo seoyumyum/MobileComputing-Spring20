{
 "cells": [
  {
   "cell_type": "code",
   "execution_count": 52,
   "metadata": {},
   "outputs": [],
   "source": [
    "# Import functions and libraries\n",
    "import numpy as np\n",
    "from numpy import r_, exp, cos, sin, pi, zeros, ones, hanning, sqrt, log, floor, reshape, mean\n",
    "from scipy import signal\n",
    "from numpy.fft import fft\n",
    "\n",
    "\n",
    "data_path = 'data.csv'\n",
    "data = np.genfromtxt(data_path, delimiter=',')\n",
    "Ns = len(data[:,0])\n",
    "fs = 100  # [Hz]\n",
    "dt = 1/fs  # unit time\n",
    "t = np.arange(0,dt*Ns,dt)\n",
    "Acc = np.sqrt(np.square(data[:,0])+np.square(data[:,1])+np.square(data[:,2]))\n",
    "\n",
    "fc = 3.5 #cuttoff freq [Hz]\n",
    "b,a = signal.butter(10, fc/(fs/2), btype='lowpass', analog=False)\n",
    "Acc_LPF = signal.filtfilt(b,a,Acc)\n",
    "\n",
    "width = 275  #number of samples for each window\n",
    "iter = (len(Acc)//width)+1\n",
    "peak_dynamic_temp=[]\n",
    "Avg=0\n",
    "for i in range(iter): \n",
    "    Avg = np.average(Acc_LPF[0+i*width:width+i*width])\n",
    "\n",
    "    prom_dynamic = 4/(np.std(Acc_LPF[0+i*width:width+i*width]))\n",
    "    peak_dynamic, _ = signal.find_peaks(Acc_LPF[0+i*width:width+i*width], prominence=prom_dynamic)\n",
    "\n",
    "    peak_dynamic_temp = np.append(peak_dynamic_temp, peak_dynamic+i*width)\n",
    "\n",
    "\n",
    "peak_dynamic = peak_dynamic_temp.astype(int)\n",
    "\n",
    "with open('result.txt', 'w') as f:\n",
    "    f.write('%d' %len(peak_dynamic))\n"
   ]
  }
 ],
 "metadata": {
  "kernelspec": {
   "display_name": "Pytorch-kernel",
   "language": "python",
   "name": "pytorch-kernel"
  },
  "language_info": {
   "codemirror_mode": {
    "name": "ipython",
    "version": 3
   },
   "file_extension": ".py",
   "mimetype": "text/x-python",
   "name": "python",
   "nbconvert_exporter": "python",
   "pygments_lexer": "ipython3",
   "version": "3.9.4"
  }
 },
 "nbformat": 4,
 "nbformat_minor": 2
}
