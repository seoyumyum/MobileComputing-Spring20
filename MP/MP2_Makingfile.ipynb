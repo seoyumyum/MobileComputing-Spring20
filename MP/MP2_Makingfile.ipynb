{
 "cells": [
  {
   "cell_type": "code",
   "execution_count": 1,
   "metadata": {},
   "outputs": [],
   "source": [
    "import numpy as np\n",
    "from numpy.linalg import*\n",
    "import matplotlib.pyplot as plt\n",
    "from numpy import r_, exp, cos, sin, pi, zeros, ones, hanning, sqrt, log, floor, reshape, mean\n",
    "from scipy import signal\n",
    "from numpy.fft import fft\n",
    "import math\n",
    "%matplotlib inline"
   ]
  },
  {
   "cell_type": "code",
   "execution_count": 2,
   "metadata": {},
   "outputs": [
    {
     "name": "stdout",
     "output_type": "stream",
     "text": [
      "1770\n"
     ]
    }
   ],
   "source": [
    "# data import\n",
    "data_path = 'sample_data.csv'\n",
    "data = np.genfromtxt(data_path, delimiter=',')\n",
    "Ns = len(data[1:,0])\n",
    "fs = 100  # [Hz]\n",
    "dt = 1/fs  # unit time\n"
   ]
  },
  {
   "cell_type": "code",
   "execution_count": 3,
   "metadata": {},
   "outputs": [
    {
     "name": "stdout",
     "output_type": "stream",
     "text": [
      "[[ 0.99992646  0.         -0.0121273 ]\n",
      " [-0.00204041  0.9857445  -0.16823677]\n",
      " [ 0.01195441  0.16824915  0.98567201]]\n",
      "[[ 0.99992646 -0.00204041  0.01195441]\n",
      " [ 0.          0.9857445   0.16824915]\n",
      " [-0.0121273  -0.16823677  0.98567201]]\n",
      "[[ 9.99926462e-01 -2.04040710e-03  1.19544148e-02]\n",
      " [-4.39952612e-19  9.85744503e-01  1.68249146e-01]\n",
      " [-1.21272954e-02 -1.68236773e-01  9.85672013e-01]]\n",
      "[ 0.99992646 -0.00204041  0.01195441]\n"
     ]
    }
   ],
   "source": [
    "# Initial orientation calculation\n",
    "v2_raw = data[0,:]\n",
    "v2 = v2_raw/np.linalg.norm(v2_raw) \n",
    "\n",
    "y=sqrt(1-np.square(v2[1]))\n",
    "x=-v2[0]*v2[1]/y\n",
    "z=x*v2[2]/v2[0]\n",
    "\n",
    "v1 = np.zeros(3)\n",
    "v1 = [x,y,z]\n",
    "\n",
    "v0 = np.cross(v1,v2)\n",
    "\n",
    "X = np.vstack((v0,v1,v2)).T\n",
    "v0_g = np.array([1,0,0])\n",
    "v1_g = np.array([0,1,0])\n",
    "v2_g = np.array([0,0,1])\n",
    "X_g = np.vstack((v0_g,v1_g,v2_g)).T\n",
    "\n",
    "R = np.matmul(X_g,np.linalg.inv(X))\n"
   ]
  },
  {
   "cell_type": "code",
   "execution_count": 8,
   "metadata": {},
   "outputs": [],
   "source": [
    "# 3D orientation tracking\n",
    "\n",
    "def getdR(R0,dt,l):\n",
    "    dth = np.linalg.norm(l,2)*dt    # Rotation Angle\n",
    "    l_norm = l/np.linalg.norm(l)\n",
    "    l_g = np.matmul(R0,l_norm.T)\n",
    "    u_x = np.array([[0,-l_g[2], l_g[1]]\n",
    "                    ,[l_g[2], 0, -l_g[0]]\n",
    "                    ,[-l_g[1], l_g[0], 0]])  # cross product matrix\n",
    "    dR = np.identity(3)*np.cos(dth) + np.sin(dth)*u_x + (1-np.cos(dth))*np.outer(l_g,l_g)\n",
    "    return dR\n",
    "    \n",
    "R_now = R\n",
    "for i in range(Ns):\n",
    "    dR = getdR(R_now,dt,data[i+1,:])\n",
    "    R_now = np.matmul(dR,R_now)\n",
    "\n",
    "\n"
   ]
  },
  {
   "cell_type": "code",
   "execution_count": null,
   "metadata": {},
   "outputs": [],
   "source": []
  }
 ],
 "metadata": {
  "kernelspec": {
   "display_name": "Pytorch",
   "language": "python",
   "name": "pytorch"
  },
  "language_info": {
   "codemirror_mode": {
    "name": "ipython",
    "version": 3
   },
   "file_extension": ".py",
   "mimetype": "text/x-python",
   "name": "python",
   "nbconvert_exporter": "python",
   "pygments_lexer": "ipython3",
   "version": "3.7.4"
  }
 },
 "nbformat": 4,
 "nbformat_minor": 2
}
