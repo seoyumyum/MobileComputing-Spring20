{
 "cells": [
  {
   "cell_type": "code",
   "execution_count": null,
   "metadata": {},
   "outputs": [],
   "source": [
    "# signal\n",
    "input = np.random.rand(100)\n",
    "window = signal.boxcar(10)\n",
    "# Pad the window to make its size equal to signal size\n",
    "# I'm assuming your peak is between sample 45 and 55\n",
    "window = np.lib.pad(window, (45, 45), 'constant')\n",
    "output = input*window\n",
    "\n",
    "plt.plot(output)\n",
    "plt.plot(input)\n",
    "plt.plot(window)"
   ]
  }
 ],
 "metadata": {
  "kernelspec": {
   "display_name": "Pytorch",
   "language": "python",
   "name": "pytorch"
  },
  "language_info": {
   "codemirror_mode": {
    "name": "ipython",
    "version": 3
   },
   "file_extension": ".py",
   "mimetype": "text/x-python",
   "name": "python",
   "nbconvert_exporter": "python",
   "pygments_lexer": "ipython3",
   "version": "3.7.4"
  }
 },
 "nbformat": 4,
 "nbformat_minor": 2
}
