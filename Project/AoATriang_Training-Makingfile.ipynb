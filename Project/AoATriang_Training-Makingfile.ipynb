{
 "cells": [
  {
   "cell_type": "code",
   "execution_count": 626,
   "metadata": {},
   "outputs": [],
   "source": [
    "import numpy as np\n",
    "from numpy.linalg import*\n",
    "import matplotlib.pyplot as plt\n",
    "from numpy import r_, exp, cos, sin, pi, zeros, ones, hanning, sqrt, log, floor, reshape, mean\n",
    "from scipy import signal, interpolate\n",
    "from numpy.fft import fft\n",
    "from itertools import combinations\n",
    "import math\n",
    "\n",
    "def cross_corr(y1, y2):  \n",
    "    if len(y1) != len(y2):\n",
    "        raise ValueError('The lengths of the inputs should be the same.')\n",
    "\n",
    "    y1_auto_corr = np.dot(y1, y1) / len(y1)\n",
    "    y2_auto_corr = np.dot(y2, y2) / len(y1)\n",
    "    corr = signal.correlate(y1, y2, mode='same')\n",
    "    unbiased_sample_size = signal.correlate(np.ones(len(y1)), np.ones(len(y1)), mode='same')\n",
    "    corr = corr / unbiased_sample_size / np.sqrt(y1_auto_corr * y2_auto_corr)\n",
    "    shift = len(y1) // 2\n",
    "\n",
    "    max_corr = np.max(corr)\n",
    "    argmax_corr = np.argmax(corr)\n",
    "    return max_corr, argmax_corr - shift\n",
    "\n",
    "def LPF(order, fc, fs):\n",
    "    nyq = 0.5*fs\n",
    "    fc_norm=fc/nyq\n",
    "    b,a = signal.butter(order, fc_norm, btype='low')\n",
    "    return b,a\n",
    "\n",
    "def BPF(order, fl, fh, fs):\n",
    "    nyq = 0.5*fs\n",
    "    low=fl/nyq\n",
    "    high=fh/nyq\n",
    "    b,a = signal.butter(order, [low, high], btype='band')\n",
    "    return b,a"
   ]
  },
  {
   "cell_type": "code",
   "execution_count": 627,
   "metadata": {},
   "outputs": [
    {
     "name": "stdout",
     "output_type": "stream",
     "text": [
      "[[0.0055542 0.0055542 0.0057526 0.0060577 0.0064697 0.0056915]\n",
      " [0.0052795 0.0053253 0.0057831 0.0060272 0.0064545 0.005249 ]\n",
      " [0.0052643 0.0048676 0.0054779 0.006424  0.0062866 0.0050812]\n",
      " ...\n",
      " [0.0072632 0.0069122 0.0071869 0.0069275 0.008255  0.0077972]\n",
      " [0.0067902 0.0064392 0.006897  0.0069885 0.0080109 0.0068054]\n",
      " [0.0070496 0.0062256 0.0064392 0.0071716 0.0071259 0.0067139]]\n",
      "(8, 2)\n"
     ]
    }
   ],
   "source": [
    "# data import\n",
    "Settings = 2\n",
    "User = 1\n",
    "DevLoc_path = 'DevLoc'+str(Settings)+'.csv'   # location of devices where device contains 6 mics\n",
    "DevLoc = np.genfromtxt(DevLoc_path, delimiter=',')\n",
    "Mic = np.zeros((24000,6,8))\n",
    "for i in range(8):\n",
    "    Mic_path = 'user'+str(User)+'_setting'+str(Settings)+'/'+str(i+1)+'.csv'      # measured data from mic arrays\n",
    "    Mic[:,:,i] = np.genfromtxt(Mic_path, delimiter=',')\n",
    "    \n",
    "    \n",
    "print(Mic[:,:,5])\n",
    "print(DevLoc.shape)\n"
   ]
  },
  {
   "cell_type": "code",
   "execution_count": 628,
   "metadata": {},
   "outputs": [],
   "source": [
    "# Define parameters\n",
    "vp = 330   # Propagation speed  [m/s]\n",
    "\n",
    "Ns = len(Mic[:,0,0])    # Number of samples per single mic\n",
    "fs = 16000  # [Hz]     # Sampled freq\n",
    "ts = 1/fs  # Sampled time\n",
    "t = np.arange(0,ts*Ns,ts)\n",
    "freq = np.arange(0,fs,fs/Ns)\n",
    "n = np.arange(0,Ns,1)\n",
    "radius = 0.5*0.09218   # distance in meter from center of a single device.\n",
    "\n",
    "\n",
    "r = np.zeros((6,2))   # Relative location of each microphone from device center\n",
    "for i in range(6):\n",
    "    r[i,0] = radius*cos((1-i)*pi/3)\n",
    "    r[i,1] = radius*sin((1-i)*pi/3)\n",
    "\n"
   ]
  },
  {
   "cell_type": "code",
   "execution_count": 629,
   "metadata": {},
   "outputs": [
    {
     "name": "stdout",
     "output_type": "stream",
     "text": [
      "0\n",
      "1\n",
      "2\n",
      "3\n",
      "4\n",
      "5\n",
      "6\n",
      "7\n",
      "[[-6.78021263e-04  3.26213132e-04]\n",
      " [-4.14346327e-04 -9.78639396e-05]\n",
      " [ 4.89682023e-04 -2.60970506e-04]\n",
      " [-1.13003544e-03  2.60970506e-04]\n",
      " [ 1.70447012e-03 -1.06019268e-03]\n",
      " [ 4.04929365e-04  1.79417223e-04]\n",
      " [ 8.47526578e-04  3.58834445e-04]\n",
      " [-7.34523035e-04 -2.93591819e-04]]\n"
     ]
    }
   ],
   "source": [
    "# Bandpass Filtering around 100Hz~2kHz\n",
    "\n",
    "b,a = BPF(4,100,1500,fs)\n",
    "w,h = signal.freqs(b,a)\n",
    "for k in range(8):    \n",
    "    for i in range(6):\n",
    "        Mic[:,i,k] = signal.filtfilt(b,a,Mic[:,i,k])\n",
    "\n",
    "\n",
    "# Let us interpolate the signal to oversample by Shrink_factor(SF) times.\n",
    "\n",
    "SF = 4\n",
    "n_new = np.arange(0,(Ns-1)+1/SF,1/SF)\n",
    "Mic_new = np.zeros((len(n_new),6,8))\n",
    "\n",
    "for k in range(8):\n",
    "    for i in range(6):\n",
    "        func = interpolate.interp1d(n,Mic[:,i,k])\n",
    "        Mic_new[:,i,k]=func(n_new)\n",
    "    \n",
    "\n",
    "ts_new = ts/SF\n",
    "Ns_new = len(Mic_new[:,0,0])\n",
    "t_new = np.arange(0,ts_new*Ns_new,ts_new)\n",
    "\n",
    "\n",
    "\n",
    "\n",
    "# Calculate relative time lag referenced to each microphone elements\n",
    "\n",
    "# From relation: r_ij dot alpha = t_ij * vp. \n",
    "#comb = combinations([0,1,2,3,4,5],2)\n",
    "r_ij = np.zeros((15,2))\n",
    "dtau = np.zeros(15)\n",
    "Vxy = np.zeros((2,8))\n",
    "#for (i,j) in list(comb):\n",
    "#    print(i,j)\n",
    "lag_temp = np.zeros((15,8))\n",
    "\n",
    "for k in range(8):\n",
    "    comb = combinations([0,1,2,3,4,5],2)\n",
    "    print(k)\n",
    "    q=0\n",
    "    for (i,j) in list(comb):\n",
    "        #print(i,j)\n",
    "        r_ij[q] = r[i,:] - r[j,:]\n",
    "        corr, lag = cross_corr(Mic_new[:,j,k], Mic_new[:,i,k])\n",
    "        dtau[q] = lag*ts_new\n",
    "        lag_temp[q,k]=lag\n",
    "\n",
    "        q=q+1\n",
    "    Vxy[:,k] = np.linalg.inv(r_ij.T@r_ij)@r_ij.T@dtau.T\n",
    "\n",
    "\n",
    "\n",
    "\n",
    "# [dtau]vp = [r_ref][X] where [X] is the direction vector toward the user U(x,y)\n",
    "# Finding Least sqaure solution\n",
    "\n",
    "print(Vxy.T)\n",
    "\n"
   ]
  },
  {
   "cell_type": "code",
   "execution_count": 630,
   "metadata": {},
   "outputs": [
    {
     "name": "stdout",
     "output_type": "stream",
     "text": [
      "0.007640995971652767\n",
      "0.006226122454242147\n",
      "0.006398576040500367\n",
      "0.007670408703672447\n",
      "0.013602539719509586\n",
      "0.0049786835789079435\n",
      "0.008447433767997848\n",
      "0.005035595366657142\n",
      "[0.52876342 0.4504314  0.43800128 0.53907037 1.         0.39674489\n",
      " 0.37925781 0.33232863]\n"
     ]
    },
    {
     "data": {
      "image/png": "[encoded data removed]",
      "text/plain": [
       "<Figure size 432x288 with 1 Axes>"
      ]
     },
     "metadata": {
      "needs_background": "light"
     },
     "output_type": "display_data"
    }
   ],
   "source": [
    "flag=np.ones(8)\n",
    "for i in range(8):\n",
    "    #if np.max(np.square(Mic_new[:,0,i])) < 0.25 * np.max(np.square(Mic_new[:,0,:])):\n",
    "    #    flag[i]=0\n",
    "    #    continue\n",
    "    flag[i]=np.average(np.square(Mic_new[:,0,i]))\n",
    "    \n",
    "    plt.plot(t_new, np.square(Mic_new[:,0,i]))\n",
    "    print(max(np.square(Mic_new[:,0,i])))\n",
    "flag = flag/np.max(flag)\n",
    "print(flag)"
   ]
  },
  {
   "cell_type": "code",
   "execution_count": 631,
   "metadata": {},
   "outputs": [
    {
     "name": "stdout",
     "output_type": "stream",
     "text": [
      "[ 0.00101703  0.0016199   0.          0.00130485 -0.00520719 -0.00121479\n",
      "  0.00089709  0.00029495]\n",
      "[[0.52876342 0.         0.         0.         0.         0.\n",
      "  0.         0.        ]\n",
      " [0.         0.4504314  0.         0.         0.         0.\n",
      "  0.         0.        ]\n",
      " [0.         0.         0.43800128 0.         0.         0.\n",
      "  0.         0.        ]\n",
      " [0.         0.         0.         0.53907037 0.         0.\n",
      "  0.         0.        ]\n",
      " [0.         0.         0.         0.         1.         0.\n",
      "  0.         0.        ]\n",
      " [0.         0.         0.         0.         0.         0.39674489\n",
      "  0.         0.        ]\n",
      " [0.         0.         0.         0.         0.         0.\n",
      "  0.37925781 0.        ]\n",
      " [0.         0.         0.         0.         0.         0.\n",
      "  0.         0.33232863]]\n"
     ]
    }
   ],
   "source": [
    "# Triangulation.  Assuming ax+by=c lines meet in one line is to solve least square problem.   [A] [Xu] = [C] \n",
    "A = Vxy.T[:,[1,0]]@[[1,0],[0,-1]]\n",
    "\n",
    "# [C] = [beta,alpha] dot [DevLoc_x, DevLocy]\n",
    "c = np.zeros(8)\n",
    "for i in range(8):\n",
    "    c[i] = A[i,:]@DevLoc[i,:]\n",
    "print(c)\n",
    "\n",
    "\n",
    "#weights = [1,1,1,1,1,1,1,1]\n",
    "\n",
    "weights = flag\n",
    "W = np.diag(flag)\n",
    "print(W)\n",
    "\n",
    "Uxy = np.linalg.inv(A.T@W@A)@A.T@W@c\n"
   ]
  },
  {
   "cell_type": "code",
   "execution_count": 632,
   "metadata": {},
   "outputs": [
    {
     "name": "stdout",
     "output_type": "stream",
     "text": [
      "(600, 8)\n",
      "[[-6.78021263e-04  3.26213132e-04]\n",
      " [-4.14346327e-04 -9.78639396e-05]\n",
      " [ 4.89682023e-04 -2.60970506e-04]\n",
      " [-1.13003544e-03  2.60970506e-04]\n",
      " [ 1.70447012e-03 -1.06019268e-03]\n",
      " [ 4.04929365e-04  1.79417223e-04]\n",
      " [ 8.47526578e-04  3.58834445e-04]\n",
      " [-7.34523035e-04 -2.93591819e-04]]\n",
      "User Location:  [2.73850967 1.12430081]\n",
      "Error[m] =  1.2675995190644336\n"
     ]
    },
    {
     "data": {
      "image/png": "[encoded data removed]",
      "text/plain": [
       "<Figure size 432x288 with 1 Axes>"
      ]
     },
     "metadata": {
      "needs_background": "light"
     },
     "output_type": "display_data"
    }
   ],
   "source": [
    "#Plotting the graph \n",
    "x = np.arange(0,6,0.01)\n",
    "y = np.zeros((len(x),8))\n",
    "\n",
    "for i in range(8):\n",
    "    if flag[i] == 0:\n",
    "        y[:,i] = (Vxy.T[i,1]/Vxy.T[i,0])*(x-DevLoc[i,0])+DevLoc[i,1]\n",
    "        plt.plot(x,y[:,i],':')\n",
    "        continue\n",
    "    if Vxy.T[i,1] == 0:\n",
    "        plt.plot(1,-100)\n",
    "        continue\n",
    "    y[:,i] = (Vxy.T[i,1]/Vxy.T[i,0])*(x-DevLoc[i,0])+DevLoc[i,1]\n",
    "    plt.plot(x,y[:,i])\n",
    "\n",
    "plt.gca().set_prop_cycle(None)\n",
    "for i in range(8):\n",
    "    plt.plot(DevLoc[i,0],DevLoc[i,1],'o', label='Mic'+str(i+1))\n",
    "\n",
    "print(y.shape)\n",
    "\n",
    "print(Vxy.T)\n",
    "plt.plot(Uxy[0],Uxy[1],'s', label='User', color='black')\n",
    "plt.legend(bbox_to_anchor=(1.04,1), loc=\"upper left\")\n",
    "\n",
    "plt.ylim([0,6])\n",
    "\n",
    "print(\"User Location: \", Uxy)\n",
    "if Settings==1:\n",
    "    Error = np.linalg.norm(Uxy-[3,1])\n",
    "if Settings==2:\n",
    "    Error = np.linalg.norm(Uxy-[4,1])\n",
    "    \n",
    "print('Error[m] = ',Error)\n",
    "\n"
   ]
  },
  {
   "cell_type": "code",
   "execution_count": 633,
   "metadata": {},
   "outputs": [
    {
     "name": "stdout",
     "output_type": "stream",
     "text": [
      "[0.52876342 0.4504314  0.43800128 0.53907037 1.         0.39674489\n",
      " 0.37925781 0.33232863]\n",
      "-0.00197932579547055\n",
      "0.00023153361576136388\n",
      "0.0010475896056277626\n",
      "0.002848973564533264\n",
      "0.0008048461406851754\n",
      "0.0007723702432154934\n",
      "0.0006055811422427164\n",
      "0.0022486415259874463\n",
      "[0.         0.4504314  0.43800128 0.53907037 1.         0.39674489\n",
      " 0.37925781 0.33232863]\n"
     ]
    }
   ],
   "source": [
    "# Check the validity\n",
    "Vxy_est = Uxy-DevLoc\n",
    "\n",
    "print(flag)\n",
    "for i in range(8):\n",
    "    print(Vxy_est[i,:]@Vxy[:,i])\n",
    "    if Vxy_est[i,:]@Vxy[:,i] < 0:\n",
    "        flag[i]=0\n",
    "print(flag)"
   ]
  },
  {
   "cell_type": "code",
   "execution_count": 634,
   "metadata": {},
   "outputs": [
    {
     "name": "stdout",
     "output_type": "stream",
     "text": [
      "User Location_new:  [2.76588695 1.16623213]\n",
      "Error_new[m] =  1.245258262890892\n"
     ]
    },
    {
     "data": {
      "image/png": "[encoded data removed]",
      "text/plain": [
       "<Figure size 432x288 with 1 Axes>"
      ]
     },
     "metadata": {
      "needs_background": "light"
     },
     "output_type": "display_data"
    }
   ],
   "source": [
    "# Repeat once\n",
    "for k in range(8):\n",
    "    comb = combinations([0,1,2,3,4,5],2)\n",
    "    q=0\n",
    "    for (i,j) in list(comb):\n",
    "\n",
    "        r_ij[q] = r[i,:] - r[j,:]\n",
    "        corr, lag = cross_corr(Mic_new[:,j,k], Mic_new[:,i,k])\n",
    "        dtau[q] = lag*ts_new\n",
    "        lag_temp[q,k]=lag\n",
    "        q=q+1\n",
    "    Vxy[:,k] = np.linalg.inv(r_ij.T@r_ij)@r_ij.T@dtau.T\n",
    "\n",
    "# Triangulation.  Assuming ax+by=c lines meet in one line is to solve least square problem.   [A] [Xu] = [C] \n",
    "A = Vxy.T[:,[1,0]]@[[1,0],[0,-1]]\n",
    "c = np.zeros(8)\n",
    "for i in range(8):\n",
    "    c[i] = A[i,:]@DevLoc[i,:]    \n",
    "\n",
    "W = np.diag(flag)\n",
    "\n",
    "Uxy = np.linalg.inv(A.T@W@A)@A.T@W@c\n",
    "Vxy_est = Uxy-DevLoc\n",
    "\n",
    "for i in range(8):\n",
    "    if flag[i] == 0:\n",
    "        y[:,i] = (Vxy.T[i,1]/Vxy.T[i,0])*(x-DevLoc[i,0])+DevLoc[i,1]\n",
    "        plt.plot(x,y[:,i],':')\n",
    "        continue\n",
    "    if Vxy.T[i,1] == 0:\n",
    "        plt.plot(1,-100)\n",
    "        continue\n",
    "    y[:,i] = (Vxy.T[i,1]/Vxy.T[i,0])*(x-DevLoc[i,0])+DevLoc[i,1]\n",
    "    plt.plot(x,y[:,i])\n",
    "\n",
    "plt.gca().set_prop_cycle(None)\n",
    "for i in range(8):\n",
    "    plt.plot(DevLoc[i,0],DevLoc[i,1],'o', label='Mic'+str(i+1))\n",
    "\n",
    "plt.plot(Uxy[0],Uxy[1],'s', label='User', color='black')\n",
    "plt.legend(bbox_to_anchor=(1.04,1), loc=\"upper left\")\n",
    "\n",
    "plt.ylim([0,6])\n",
    "\n",
    "print(\"User Location_new: \", Uxy)\n",
    "if Settings==1:\n",
    "    Error = np.linalg.norm(Uxy-[3,1])\n",
    "if Settings==2:\n",
    "    Error = np.linalg.norm(Uxy-[4,1])\n",
    "    \n",
    "print('Error_new[m] = ',Error)"
   ]
  },
  {
   "cell_type": "code",
   "execution_count": null,
   "metadata": {},
   "outputs": [],
   "source": []
  },
  {
   "cell_type": "code",
   "execution_count": null,
   "metadata": {},
   "outputs": [],
   "source": []
  },
  {
   "cell_type": "code",
   "execution_count": null,
   "metadata": {},
   "outputs": [],
   "source": []
  }
 ],
 "metadata": {
  "kernelspec": {
   "display_name": "Pytorch-kernel",
   "language": "python",
   "name": "pytorch-kernel"
  },
  "language_info": {
   "codemirror_mode": {
    "name": "ipython",
    "version": 3
   },
   "file_extension": ".py",
   "mimetype": "text/x-python",
   "name": "python",
   "nbconvert_exporter": "python",
   "pygments_lexer": "ipython3",
   "version": "3.9.4"
  }
 },
 "nbformat": 4,
 "nbformat_minor": 2
}
